{
 "cells": [
  {
   "cell_type": "code",
   "execution_count": 106,
   "metadata": {},
   "outputs": [],
   "source": [
    "from dataclasses import dataclass\n",
    "from typing import Optional, Union, List\n",
    "import numpy as np\n",
    "import gym\n",
    "import gym.spaces\n",
    "import gym.envs.registration\n",
    "from gym.utils import seeding\n",
    "import numpy as np\n",
    "import matplotlib.pyplot as plt\n",
    "from tqdm import tqdm, trange\n",
    "from PIL import Image, ImageDraw\n",
    "\n",
    "import utils\n",
    "from prevsoln import *\n",
    "\n",
    "MAIN = __name__ == \"__main__\""
   ]
  },
  {
   "cell_type": "code",
   "execution_count": 107,
   "metadata": {},
   "outputs": [],
   "source": [
    "# MAIN = __name__ == \"__main__\"\n",
    "# Arr = np.ndarray\n",
    "\n",
    "# if MAIN:\n",
    "#     import prevutils as utils\n",
    "\n",
    "# # %%\n",
    "# class Environment:\n",
    "#     def __init__(self, num_states: int, num_actions: int, start=0, terminal=None):\n",
    "#         self.num_states = num_states\n",
    "#         self.num_actions = num_actions\n",
    "#         self.start = start\n",
    "#         self.terminal = np.array([], dtype=int) if terminal is None else terminal\n",
    "#         (self.T, self.R) = self.build()\n",
    "\n",
    "#     def build(self):\n",
    "#         '''\n",
    "#         Constructs the T and R tensors from the dynamics of the environment.\n",
    "#         Outputs:\n",
    "#             T : (num_states, num_actions, num_states) State transition probabilities\n",
    "#             R : (num_states, num_actions, num_states) Reward function\n",
    "#         '''\n",
    "#         num_states = self.num_states\n",
    "#         num_actions = self.num_actions\n",
    "#         T = np.zeros((num_states, num_actions, num_states))\n",
    "#         R = np.zeros((num_states, num_actions, num_states))\n",
    "#         for s in range(num_states):\n",
    "#             for a in range(num_actions):\n",
    "#                 (states, rewards, probs) = self.dynamics(s, a)\n",
    "#                 (all_s, all_r, all_p) = self.out_pad(states, rewards, probs)\n",
    "#                 T[s, a, all_s] = all_p\n",
    "#                 R[s, a, all_s] = all_r\n",
    "#         return (T, R)\n",
    "\n",
    "#     def dynamics(self, state: int, action: int) -> tuple[Arr, Arr, Arr]:\n",
    "#         '''\n",
    "#         Computes the distribution over possible outcomes for a given state\n",
    "#         and action.\n",
    "#         Inputs:\n",
    "#             state : int (index of state)\n",
    "#             action : int (index of action)\n",
    "#         Outputs:\n",
    "#             states  : (m,) all the possible next states\n",
    "#             rewards : (m,) rewards for each next state transition\n",
    "#             probs   : (m,) likelihood of each state-reward pair\n",
    "#         '''\n",
    "#         raise NotImplementedError\n",
    "\n",
    "#     def render(pi: Arr):\n",
    "#         '''\n",
    "#         Takes a policy pi, and draws an image of the behavior of that policy,\n",
    "#         if applicable.\n",
    "#         Inputs:\n",
    "#             pi : (num_actions,) a policy\n",
    "#         Outputs:\n",
    "#             None\n",
    "#         '''\n",
    "#         raise NotImplementedError\n",
    "\n",
    "#     def out_pad(self, states: Arr, rewards: Arr, probs: Arr):\n",
    "#         '''\n",
    "#         Inputs:\n",
    "#             states  : (m,) all the possible next states\n",
    "#             rewards : (m,) rewards for each next state transition\n",
    "#             probs   : (m,) likelihood of each state-reward pair\n",
    "#         Outputs:\n",
    "#             states  : (num_states,) all the next states\n",
    "#             rewards : (num_states,) rewards for each next state transition\n",
    "#             probs   : (num_states,) likelihood of each state-reward pair (including\n",
    "#                            probability zero outcomes.)\n",
    "#         '''\n",
    "#         out_s = np.arange(self.num_states)\n",
    "#         out_r = np.zeros(self.num_states)\n",
    "#         out_p = np.zeros(self.num_states)\n",
    "#         for i in range(len(states)):\n",
    "#             idx = states[i]\n",
    "#             out_r[idx] += rewards[i]\n",
    "#             out_p[idx] += probs[i]\n",
    "#         return (out_s, out_r, out_p)\n",
    "\n",
    "# # %%\n",
    "\n",
    "# class Toy(Environment):\n",
    "\n",
    "#     def __init__(self):\n",
    "#         super().__init__(num_states=3, num_actions=2)\n",
    "\n",
    "#     def dynamics(self, state: int, action: int):\n",
    "#         (S0, SL, SR) = (0, 1, 2)\n",
    "#         LEFT = 0\n",
    "#         assert 0 <= state < self.num_states and 0 <= action < self.num_actions\n",
    "#         if state == S0:\n",
    "#             if action == LEFT:\n",
    "#                 (next_state, reward) = (SL, 1)\n",
    "#             else:\n",
    "#                 (next_state, reward) = (SR, 0)\n",
    "#         elif state == SL:\n",
    "#             (next_state, reward) = (S0, 0)\n",
    "#         elif state == SR:\n",
    "#             (next_state, reward) = (S0, 2)\n",
    "#         return (np.array([next_state]), np.array([reward]), np.array([1]))\n",
    "\n",
    "\n",
    "# # %%\n",
    "\n",
    "# if MAIN:\n",
    "#     toy = Toy()\n",
    "#     print(toy.T)\n",
    "#     print(toy.R)\n",
    "# # %%\n",
    "\n",
    "# class Norvig(Environment):\n",
    "#     def dynamics(self, state : int, action : int) -> tuple[Arr, Arr, Arr]:\n",
    "#         def state_index(state):\n",
    "#             assert 0 <= state[0] < self.width and 0 <= state[1] < self.height, print(state)\n",
    "#             pos = state[0] + state[1] * self.width\n",
    "#             assert 0 <= pos < self.num_states, print(state, pos)\n",
    "#             return pos\n",
    "\n",
    "#         pos = self.states[state]\n",
    "#         move = self.actions[action]\n",
    "\n",
    "#         # When in either goal state (or the wall), stay there forever, no reward\n",
    "#         if state in self.terminal or state in self.walls:\n",
    "#             return (np.array([state]), np.array([0]), np.array([1]))\n",
    "\n",
    "#         # 70% chance of moving in correct direction\n",
    "#         # 10% chance of moving in the other directions\n",
    "#         out_probs = np.zeros(self.num_actions) + 0.1  # set slippery probability\n",
    "#         out_probs[action] = 0.7  # probability of requested direction\n",
    "\n",
    "#         out_states = np.zeros(self.num_actions, dtype=int) + self.num_actions\n",
    "#         out_rewards = np.zeros(self.num_actions) + self.penalty\n",
    "#         new_states = [pos + x for x in self.actions]\n",
    "\n",
    "#         for i, s_new in enumerate(new_states):\n",
    "\n",
    "#             # check if left bounds of world, if so, don't move\n",
    "#             if not (0 <= s_new[0] < self.width and 0 <= s_new[1] < self.height):\n",
    "#                 out_states[i] = state\n",
    "#                 continue\n",
    "\n",
    "#             # position in bounds, lookup state index\n",
    "#             new_state = state_index(s_new)  # lookup state index\n",
    "\n",
    "#             # check if would run into a wall, if so, don't move\n",
    "#             if new_state in self.walls:\n",
    "#                 out_states[i] = state\n",
    "\n",
    "#             # a normal movement, move to new cell\n",
    "#             else:\n",
    "#                 out_states[i] = new_state\n",
    "\n",
    "#             # walking into a goal state from non-goal state\n",
    "#             for idx in range(len(self.terminal)):\n",
    "#                 if new_state == self.terminal[idx]:\n",
    "#                     out_rewards[i] = self.goal_rewards[idx]\n",
    "\n",
    "#         return (out_states, out_rewards, out_probs)\n",
    "\n",
    "#     def render(self, pi: Arr):\n",
    "#         pi = pi.reshape((3, 4))\n",
    "#         objects = {(3, 0): \"green\", (1, 1): \"black\", (3, 1): \"red\"}\n",
    "#         img = Image.new(mode=\"RGB\", size=(400, 300), color=\"white\")\n",
    "#         draw = ImageDraw.Draw(img)\n",
    "#         for x in range(0, img.width+1, 100):\n",
    "#             draw.line([(x, 0), (x, img.height)], fill=\"black\", width=4)\n",
    "#         for y in range(0, img.height+1, 100):\n",
    "#             draw.line([(0, y), (img.width, y)], fill=\"black\", width=4)\n",
    "#         for x in range(4):\n",
    "#             for y in range(3):\n",
    "#                 bounds = (50+x*100, 50+y*100)\n",
    "#                 draw.regular_polygon((*bounds, 20), 3, rotation=-int(90*pi[y][x]), fill=\"black\")\n",
    "#                 if (x, y) in objects:\n",
    "#                     draw.regular_polygon((*bounds, 40), 4, fill=objects[(x, y)])\n",
    "#         img.show()\n",
    "\n",
    "#     def __init__(self, penalty=-0.04):\n",
    "\n",
    "#         self.height = 3\n",
    "#         self.width = 4\n",
    "#         self.penalty = penalty\n",
    "#         num_states = self.height * self.width\n",
    "#         num_actions = 4\n",
    "#         self.states = np.array([[x, y] for y in range(self.height) for x in range(self.width)])\n",
    "#         self.actions = np.array([[0, -1], [1, 0], [0, 1], [-1, 0]])  # up, right, down, left\n",
    "#         self.dim = (self.height, self.width)\n",
    "\n",
    "#         # special states: tuples of state and reward\n",
    "#         # all other states get penalty\n",
    "#         start = 8\n",
    "#         terminal = np.array([3, 7], dtype=int)\n",
    "#         self.walls = np.array([5], dtype=int)\n",
    "#         self.goal_rewards = np.array([1.0, -1.0])\n",
    "\n",
    "#         super().__init__(num_states, num_actions, start=start, terminal=terminal)\n",
    "\n",
    "\n",
    "# # %%\n",
    "\n",
    "# def policy_eval_numerical(env: Environment, pi: Arr, gamma=0.99, eps=1e-08, max_iterations=10_000) -> Arr:\n",
    "#     '''\n",
    "#     Numerically evaluates the value of a given policy by iterating the Bellman equation\n",
    "#     Inputs:\n",
    "#         env: Environment\n",
    "#         pi : shape (num_states,) - The policy to evaluate\n",
    "#         gamma: float - Discount factor\n",
    "#         eps  : float - Tolerance\n",
    "#     Outputs:\n",
    "#         value : float (num_states,) - The value function for policy pi\n",
    "#     '''\n",
    "#     # Indexing T into an array of shape (num_states, num_states)\n",
    "#     states = np.arange(env.num_states)\n",
    "#     actions = pi\n",
    "#     transition_matrix = env.T[states, actions, :]\n",
    "#     # Same thing with R\n",
    "#     reward_matrix = env.R[states, actions, :]\n",
    "    \n",
    "#     # Iterate until we get convergence\n",
    "#     V = np.zeros_like(pi)\n",
    "#     for i in range(max_iterations):\n",
    "#         V_new = einsum(\"s s_prime, s s_prime -> s\", transition_matrix, reward_matrix + gamma * V)\n",
    "#         if np.abs(V - V_new).max() < eps:\n",
    "#             print(f\"Converged in {i} steps.\")\n",
    "#             return V_new\n",
    "#         V = V_new\n",
    "#     print(f\"Failed to converge in {max_iterations} steps.\")\n",
    "#     return V\n",
    "\n",
    "# # Alternate solution, which doesn't index at the start:\n",
    "\n",
    "# def policy_eval_numerical_2(env : Environment, pi : Arr, gamma=0.99, eps=1e-8) -> Arr:\n",
    "#     num_states = env.num_states\n",
    "#     T = env.T\n",
    "#     R = env.R\n",
    "#     delta = float(\"inf\")\n",
    "#     value = np.zeros((num_states,))  \n",
    "    \n",
    "#     while delta > eps:\n",
    "#         new_v = np.zeros_like(value)\n",
    "#         idx = range(num_states)\n",
    "#         for s in range(num_states):\n",
    "#             new_v[s] = np.dot(T[s, pi[s]], (R[s, pi[s]] + gamma * value))\n",
    "#         delta = np.abs(new_v - value).sum()\n",
    "#         value = np.copy(new_v)\n",
    "#     return value\n",
    "\n",
    "# if MAIN:\n",
    "#     utils.test_policy_eval(policy_eval_numerical, exact=False)\n",
    "\n",
    "# # %%\n",
    "\n",
    "# def policy_eval_exact(env: Environment, pi: Arr, gamma=0.99) -> Arr:\n",
    "#     '''\n",
    "#     Finds the exact solution to the Bellman equation.\n",
    "#     '''\n",
    "#     states = np.arange(env.num_states)\n",
    "#     actions = pi\n",
    "#     transition_matrix = env.T[states, actions, :]\n",
    "#     reward_matrix = env.R[states, actions, :]\n",
    "\n",
    "#     r = einsum(\"i j, i j -> i\", transition_matrix, reward_matrix)\n",
    "\n",
    "#     mat = np.eye(env.num_states) - gamma * transition_matrix\n",
    "\n",
    "#     return np.linalg.solve(mat, r)\n",
    "\n",
    "# if MAIN:\n",
    "#     utils.test_policy_eval(policy_eval_exact, exact=True)\n",
    "\n",
    "# # %%\n",
    "\n",
    "# def policy_improvement(env: Environment, V: Arr, gamma=0.99) -> Arr:\n",
    "#     '''\n",
    "#     Inputs:\n",
    "#         env: Environment\n",
    "#         V  : (num_states,) value of each state following some policy pi\n",
    "#     Outputs:\n",
    "#         pi_better : vector (num_states,) of actions representing a new policy obtained via policy iteration\n",
    "#     '''\n",
    "#     states = np.arange(env.num_states)\n",
    "#     transition_matrix = env.T[states, :, :]\n",
    "#     reward_matrix = env.R[states, :, :]\n",
    "    \n",
    "#     V_for_each_action = einsum(\"s a s_prime, s a s_prime -> s a\", transition_matrix, reward_matrix + gamma * V)\n",
    "#     pi_better = V_for_each_action.argmax(-1)\n",
    "\n",
    "#     return pi_better\n",
    "\n",
    "# # Alternate solution:\n",
    "\n",
    "# def policy_improvement_2(env : Environment, V : Arr, gamma=0.99) -> Arr:\n",
    "#     pi_new = np.argmax(np.einsum(\"ijk,ijk -> ij\", env.T, env.R) + gamma * np.einsum(\"ijk,k -> ij\", env.T, V), axis=1)\n",
    "#     return pi_new\n",
    "\n",
    "# if MAIN:\n",
    "#     utils.test_policy_improvement(policy_improvement)\n",
    "\n",
    "# # %%\n",
    "\n",
    "# def find_optimal_policy(env: Environment, gamma=0.99, max_iterations=10_000):\n",
    "#     '''\n",
    "#     Inputs:\n",
    "#         env: environment\n",
    "#     Outputs:\n",
    "#         pi : (num_states,) int, of actions represeting an optimal policy\n",
    "#     '''\n",
    "#     pi = np.zeros(shape=env.num_states, dtype=int)\n",
    "\n",
    "#     for i in range(max_iterations):\n",
    "#         V = policy_eval_exact(env, pi, gamma)\n",
    "#         pi_new = policy_improvement(env, V, gamma)\n",
    "#         if np.array_equal(pi_new, pi):\n",
    "#             return pi_new\n",
    "#         else:\n",
    "#             pi = pi_new\n",
    "#     else:\n",
    "#         print(f\"Failed to converge after {max_iterations} steps.\")\n",
    "#         return pi\n",
    "\n",
    "# if MAIN:\n",
    "#     utils.test_find_optimal_policy(find_optimal_policy)\n",
    "#     penalty = -0.1\n",
    "#     norvig = Norvig(penalty)\n",
    "#     pi_opt = find_optimal_policy(norvig, gamma=0.99)\n",
    "#     norvig.render(pi_opt)\n",
    "\n",
    "# # %%"
   ]
  },
  {
   "cell_type": "code",
   "execution_count": 108,
   "metadata": {},
   "outputs": [],
   "source": [
    "ObsType = int\n",
    "ActType = int\n",
    "\n",
    "class DiscreteEnviroGym(gym.Env):\n",
    "    action_space: gym.spaces.Discrete\n",
    "    observation_space: gym.spaces.Discrete\n",
    "\n",
    "    def __init__(self, env: Environment):\n",
    "        super().__init__()\n",
    "        self.env = env\n",
    "        self.observation_space = gym.spaces.Discrete(env.num_states)\n",
    "        self.action_space = gym.spaces.Discrete(env.num_actions)\n",
    "        self.reset()\n",
    "\n",
    "    def step(self, action: ActType) -> tuple[ObsType, float, bool, dict]:\n",
    "        '''\n",
    "        Samples from the underlying dynamics of the environment\n",
    "        '''\n",
    "        (states, rewards, probs) = self.env.dynamics(self.pos, action)\n",
    "        idx = self.np_random.choice(len(states), p=probs)\n",
    "        (new_state, reward) = (states[idx], rewards[idx])\n",
    "        self.pos = new_state\n",
    "        done = self.pos in self.env.terminal\n",
    "        return (new_state, reward, done, {\"env\": self.env})\n",
    "\n",
    "    def reset(\n",
    "        self, seed: Optional[int] = None, return_info=False, options=None\n",
    "    ) -> Union[ObsType, tuple[ObsType, dict]]:\n",
    "        super().reset(seed=seed)\n",
    "        self.pos = self.env.start\n",
    "        return (self.pos, {\"env\": self.env}) if return_info else self.pos\n",
    "\n",
    "    def render(self, mode=\"human\"):\n",
    "        assert mode == \"human\", f\"Mode {mode} not supported!\""
   ]
  },
  {
   "cell_type": "code",
   "execution_count": 109,
   "metadata": {},
   "outputs": [
    {
     "name": "stderr",
     "output_type": "stream",
     "text": [
      "/Users/jon/ml/arena/venv/lib/python3.9/site-packages/gym/envs/registration.py:595: UserWarning: \u001b[33mWARN: Overriding environment NorvigGrid-v0\u001b[0m\n",
      "  logger.warn(f\"Overriding environment {id}\")\n",
      "/Users/jon/ml/arena/venv/lib/python3.9/site-packages/gym/envs/registration.py:595: UserWarning: \u001b[33mWARN: Overriding environment ToyGym-v0\u001b[0m\n",
      "  logger.warn(f\"Overriding environment {id}\")\n"
     ]
    }
   ],
   "source": [
    "gym.envs.registration.register(\n",
    "    id=\"NorvigGrid-v0\",\n",
    "    entry_point=DiscreteEnviroGym,\n",
    "    max_episode_steps=100,\n",
    "    nondeterministic=True,\n",
    "    kwargs={\"env\": Norvig(penalty=-0.04)},\n",
    ")\n",
    "\n",
    "gym.envs.registration.register(\n",
    "    id=\"ToyGym-v0\", \n",
    "    entry_point=DiscreteEnviroGym, \n",
    "    max_episode_steps=2, \n",
    "    nondeterministic=False, \n",
    "    kwargs={\"env\": Toy()}\n",
    ")"
   ]
  },
  {
   "cell_type": "code",
   "execution_count": 110,
   "metadata": {},
   "outputs": [],
   "source": [
    "@dataclass\n",
    "class Experience:\n",
    "    '''A class for storing one piece of experience during an episode run'''\n",
    "    obs: ObsType\n",
    "    act: ActType\n",
    "    reward: float\n",
    "    new_obs: ObsType\n",
    "    new_act: Optional[ActType] = None\n",
    "\n",
    "@dataclass\n",
    "class AgentConfig:\n",
    "    '''Hyperparameters for agents'''\n",
    "    epsilon: float = 0.1\n",
    "    lr: float = 0.05\n",
    "    optimism: float = 0\n",
    "\n",
    "defaultConfig = AgentConfig()\n",
    "\n",
    "class Agent:\n",
    "    '''Base class for agents interacting with an environment (you do not need to add any implementation here)'''\n",
    "    rng: np.random.Generator\n",
    "\n",
    "    def __init__(self, env: DiscreteEnviroGym, config: AgentConfig = defaultConfig, gamma: float = 0.99, seed: int = 0):\n",
    "        self.env = env\n",
    "        self.reset(seed)\n",
    "        self.config = config\n",
    "        self.gamma = gamma\n",
    "        self.num_actions = env.action_space.n\n",
    "        self.num_states = env.observation_space.n\n",
    "        self.name = type(self).__name__\n",
    "\n",
    "    def get_action(self, obs: ObsType) -> ActType:\n",
    "        raise NotImplementedError()\n",
    "\n",
    "    def observe(self, exp: Experience) -> None:\n",
    "        '''\n",
    "        Agent observes experience, and updates model as appropriate.\n",
    "        Implementation depends on type of agent.\n",
    "        '''\n",
    "        pass\n",
    "\n",
    "    def reset(self, seed: int) -> None:\n",
    "        self.rng = np.random.default_rng(seed)\n",
    "\n",
    "    def run_episode(self, seed) -> List[int]:\n",
    "        '''\n",
    "        Simulates one episode of interaction, agent learns as appropriate\n",
    "        Inputs:\n",
    "            seed : Seed for the random number generator\n",
    "        Outputs:\n",
    "            The rewards obtained during the episode\n",
    "        '''\n",
    "        rewards = []\n",
    "        obs = self.env.reset(seed=seed)\n",
    "        self.reset(seed=seed)\n",
    "        done = False\n",
    "        while not done:\n",
    "            act = self.get_action(obs)\n",
    "            (new_obs, reward, done, info) = self.env.step(act)\n",
    "            exp = Experience(obs, act, reward, new_obs)\n",
    "            self.observe(exp)\n",
    "            rewards.append(reward)\n",
    "            obs = new_obs\n",
    "        return rewards\n",
    "\n",
    "    def train(self, n_runs=500):\n",
    "        '''\n",
    "        Run a batch of episodes, and return the total reward obtained per episode\n",
    "        Inputs:\n",
    "            n_runs : The number of episodes to simulate\n",
    "        Outputs:\n",
    "            The discounted sum of rewards obtained for each episode\n",
    "        '''\n",
    "        all_rewards = []\n",
    "        for seed in trange(n_runs):\n",
    "            rewards = self.run_episode(seed)\n",
    "            all_rewards.append(utils.sum_rewards(rewards, self.gamma))\n",
    "        return all_rewards\n",
    "\n",
    "class Random(Agent):\n",
    "    def get_action(self, obs: ObsType) -> ActType:\n",
    "        return self.rng.integers(0, self.num_actions)"
   ]
  },
  {
   "cell_type": "code",
   "execution_count": 111,
   "metadata": {},
   "outputs": [
    {
     "name": "stderr",
     "output_type": "stream",
     "text": [
      "100%|██████████| 100/100 [00:00<00:00, 14005.76it/s]\n",
      "100%|██████████| 100/100 [00:00<00:00, 12121.21it/s]\n"
     ]
    },
    {
     "data": {
      "image/png": "[encoded data removed]",
      "text/plain": [
       "<Figure size 640x480 with 1 Axes>"
      ]
     },
     "metadata": {},
     "output_type": "display_data"
    }
   ],
   "source": [
    "class Cheater(Agent):\n",
    "    def __init__(self, env: DiscreteEnviroGym, config: AgentConfig = defaultConfig, gamma=0.99, seed=0):\n",
    "        super().__init__(env, config, gamma, seed)\n",
    "        # self.env = env\n",
    "        # self.reset(seed)\n",
    "        # self.config = config\n",
    "        # self.gamma = gamma\n",
    "        # self.num_actions = env.action_space.n\n",
    "        # self.num_states = env.observation_space.n\n",
    "        # self.name = type(self).__name__\n",
    "        self.pi = find_optimal_policy(self.env.unwrapped.env, gamma=self.gamma)\n",
    "\n",
    "    def get_action(self, obs):\n",
    "        return self.pi[obs]\n",
    "        \n",
    "\n",
    "\n",
    "\n",
    "if MAIN:\n",
    "    env_toy = gym.make(\"ToyGym-v0\")\n",
    "    agents_toy = [Cheater(env_toy), Random(env_toy)]\n",
    "    for agent in agents_toy:\n",
    "        returns = agent.train(n_runs=100)\n",
    "        plt.plot(utils.cummean(returns), label=agent.name)\n",
    "    plt.legend()\n",
    "    plt.title(f\"Avg. reward on {env_toy.spec.name}\")\n",
    "    plt.show()"
   ]
  },
  {
   "cell_type": "code",
   "execution_count": 112,
   "metadata": {},
   "outputs": [
    {
     "name": "stdout",
     "output_type": "stream",
     "text": [
      "0.1\n"
     ]
    },
    {
     "name": "stderr",
     "output_type": "stream",
     "text": [
      "100%|██████████| 1000/1000 [00:00<00:00, 3658.54it/s]\n",
      "100%|██████████| 1000/1000 [00:00<00:00, 2283.51it/s]\n",
      "100%|██████████| 1000/1000 [00:01<00:00, 906.64it/s]\n",
      "100%|██████████| 1000/1000 [00:00<00:00, 2139.36it/s]\n"
     ]
    },
    {
     "data": {
      "image/png": "[encoded data removed]",
      "text/plain": [
       "<Figure size 640x480 with 1 Axes>"
      ]
     },
     "metadata": {},
     "output_type": "display_data"
    }
   ],
   "source": [
    "class QLearning(Agent):\n",
    "    def __init__(self, env: DiscreteEnviroGym, config: AgentConfig = defaultConfig, gamma=0.99, seed=0):\n",
    "        super().__init__(env, config, gamma, seed)\n",
    "        self.Q = np.zeros((self.num_states, self.num_actions))\n",
    "        print(self.config.epsilon)\n",
    "\n",
    "    def get_action(self, obs: ObsType) -> ActType:\n",
    "        if self.rng.random() < self.config.epsilon:\n",
    "            return self.rng.integers(0, self.num_actions)\n",
    "        else:\n",
    "            return np.argmax(self.Q[obs])\n",
    "            \n",
    "    def observe(self, exp: Experience) -> None:\n",
    "        self.Q[exp.obs, exp.act] += self.config.lr * (exp.reward + self.gamma * np.max(self.Q[exp.new_obs]) - self.Q[exp.obs, exp.act])\n",
    "\n",
    "class SARSA(Agent):\n",
    "    def __init__(self, env: DiscreteEnviroGym, config: AgentConfig = defaultConfig, gamma=0.99, seed=0):\n",
    "        super().__init__(env, config, gamma, seed)\n",
    "        self.Q = np.zeros((self.num_states, self.num_actions))\n",
    "\n",
    "    def get_action(self, obs: ObsType) -> ActType:\n",
    "        if self.rng.random() < self.config.epsilon:\n",
    "            return self.rng.integers(0, self.num_actions)\n",
    "        else:\n",
    "            return np.argmax(self.Q[obs])\n",
    "\n",
    "        #     '''A class for storing one piece of experience during an episode run'''\n",
    "        # obs: ObsType\n",
    "        # act: ActType\n",
    "        # reward: float\n",
    "        # new_obs: ObsType\n",
    "        # new_act: Optional[ActType] = None\n",
    "    def observe(self, exp: Experience) -> None:\n",
    "        new_act = exp.new_act or exp.act\n",
    "        self.Q[exp.obs, exp.act] += self.config.lr * (exp.reward + self.gamma * self.Q[exp.new_obs, new_act] - self.Q[exp.obs, exp.act])\n",
    "\n",
    "if MAIN:\n",
    "    env_norvig: DiscreteEnviroGym = gym.make(\"NorvigGrid-v0\")\n",
    "    n_runs = 1000\n",
    "    gamma = 0.99\n",
    "    seed = 1\n",
    "    config_norvig = AgentConfig()\n",
    "    args_nor = (env_norvig, config_norvig, gamma, seed)\n",
    "    # [Cheater(*args_nor), QLearning(*args_nor), SARSA(*args_nor), Random(*args_nor)]\n",
    "    agents_norvig = []\n",
    "    agents_norvig.append(Cheater(*args_nor))\n",
    "    agents_norvig.append(QLearning(*args_nor))\n",
    "    agents_norvig.append(Random(*args_nor))\n",
    "    agents_norvig.append(SARSA(*args_nor))\n",
    "\n",
    "    # bargs = [(env_norvig, conf, gamma, seed) for conf in [AgentConfig(epsilon=eps) for eps in [0.0, 0.1, 0.5, 20]]]\n",
    "    # bgents_norvig = [QLearning(*args) for args in bargs]\n",
    "    # agents_norvig.extend(bgents_norvig)\n",
    "    \n",
    "    \n",
    "    returns_norvig = {}\n",
    "    for agent in agents_norvig:\n",
    "        returns_norvig[agent.name] = agent.train(n_runs)\n",
    "if MAIN:\n",
    "    for agent in agents_norvig:\n",
    "        name = agent.name\n",
    "        plt.plot(utils.cummean(returns_norvig[name]), label=name)\n",
    "    plt.legend()\n",
    "    plt.title(f\"Avg. reward on {env_toy.spec.name}\")\n",
    "    plt.show()\n"
   ]
  },
  {
   "cell_type": "code",
   "execution_count": 113,
   "metadata": {},
   "outputs": [
    {
     "name": "stdout",
     "output_type": "stream",
     "text": [
      "0\n",
      "0.01\n",
      "0.05\n",
      "0.1\n"
     ]
    },
    {
     "name": "stderr",
     "output_type": "stream",
     "text": [
      "100%|██████████| 1000/1000 [00:00<00:00, 3046.51it/s]\n",
      "100%|██████████| 1000/1000 [00:00<00:00, 2734.06it/s]\n",
      "100%|██████████| 1000/1000 [00:00<00:00, 2653.42it/s]\n",
      "100%|██████████| 1000/1000 [00:00<00:00, 2291.41it/s]\n"
     ]
    },
    {
     "data": {
      "image/png": "[encoded data removed]",
      "text/plain": [
       "<Figure size 640x480 with 1 Axes>"
      ]
     },
     "metadata": {},
     "output_type": "display_data"
    }
   ],
   "source": [
    "if MAIN:\n",
    "    env_norvig: DiscreteEnviroGym = gym.make(\"NorvigGrid-v0\")\n",
    "    n_runs = 1000\n",
    "    gamma = 0.99\n",
    "    seed = 1\n",
    "    config_norvig = AgentConfig()\n",
    "    configs_eps = [AgentConfig(epsilon=eps) for eps in [0, 0.01, 0.05, 0.1]]\n",
    "    args_eps = [(env_norvig, cfg, gamma, seed) for cfg in configs_eps]\n",
    "    agents_eps = [QLearning(*args) for args in args_eps]\n",
    "    args_nor = (env_norvig, config_norvig, gamma, seed)\n",
    "    # agents_norvig = []\n",
    "    # agents_norvig.append(Cheater(*args_nor))\n",
    "    # agents_norvig.append(QLearning(*args_nor))\n",
    "    # agents_norvig.append(Random(*args_nor))\n",
    "    # agents_norvig.append(SARSA(*args_nor))\n",
    "    agents_norvig = agents_eps\n",
    "\n",
    "    # bargs = [(env_norvig, conf, gamma, seed) for conf in [AgentConfig(epsilon=eps) for eps in [0.0, 0.1, 0.5, 20]]]\n",
    "    # bgents_norvig = [QLearning(*args) for args in bargs]\n",
    "    # agents_norvig.extend(bgents_norvig)\n",
    "    \n",
    "    \n",
    "    returns_norvig = {}\n",
    "    for agent in agents_norvig:\n",
    "        new_name = f'{agent.name}-{agent.config.epsilon}'\n",
    "        returns_norvig[new_name] = agent.train(n_runs)\n",
    "if MAIN:\n",
    "    for agent in agents_norvig:\n",
    "        name = f'{agent.name}-{agent.config.epsilon}'\n",
    "        plt.plot(utils.cummean(returns_norvig[name]), label=name)\n",
    "    plt.legend()\n",
    "    plt.title(f\"Avg. reward on {env_toy.spec.name}\")\n",
    "    plt.show()"
   ]
  },
  {
   "cell_type": "code",
   "execution_count": 115,
   "metadata": {},
   "outputs": [
    {
     "name": "stdout",
     "output_type": "stream",
     "text": [
      "Collecting pygame\n",
      "  Using cached pygame-2.1.2-cp39-cp39-macosx_11_0_arm64.whl (8.4 MB)\n",
      "Installing collected packages: pygame\n",
      "Successfully installed pygame-2.1.2\n",
      "\u001b[33mWARNING: You are using pip version 21.2.4; however, version 22.3.1 is available.\n",
      "You should consider upgrading via the '/Users/jon/ml/arena/venv/bin/python3 -m pip install --upgrade pip' command.\u001b[0m\n"
     ]
    }
   ],
   "source": [
    "! pip3 install pygame\n",
    "env_norvig = gym.make(\"CliffWalking-v0\")"
   ]
  },
  {
   "cell_type": "code",
   "execution_count": 127,
   "metadata": {},
   "outputs": [],
   "source": [
    "import plotly.express as px\n",
    "\n",
    "def show_cliff_value(Q: Arr, title: Optional[str] = None):\n",
    "    '''\n",
    "    Displays the value of each state in CliffWalking-v0 given a Q-value table.\n",
    "    '''\n",
    "    V = Q.max(axis=-1).reshape(4, 12)\n",
    "    fig = px.imshow(V, text_auto=\".2f\", title=title)\n",
    "    fig.show()\n",
    "\n",
    "def show_cliff_policy(Q: Arr):\n",
    "    '''\n",
    "    Displays the greedy policy for CliffWalking-v0 given a Q-value table.\n",
    "    '''\n",
    "    pi = Q.argmax(axis=-1).reshape((4, 12))\n",
    "    objects = {(3, 0): \"green\", (3, 11): \"red\"} | {(3, i): \"black\" for i in range(1, 11)}\n",
    "    img = Image.new(mode=\"RGB\", size=(1200, 400), color=\"white\")\n",
    "    draw = ImageDraw.Draw(img)\n",
    "    for x in range(0, img.width+1, 100):\n",
    "        draw.line([(x, 0), (x, img.height)], fill=\"black\", width=4)\n",
    "    for y in range(0, img.height+1, 100):\n",
    "        draw.line([(0, y), (img.width, y)], fill=\"black\", width=4)\n",
    "    for x in range(12):\n",
    "        for y in range(4):\n",
    "            draw.regular_polygon((50+x*100, 50+y*100, 20), 3, rotation=-int(90*pi[y][x]), fill=\"black\")\n",
    "            if (y, x) in objects:\n",
    "                draw.regular_polygon((50+x*100, 50+y*100, 40), 4, fill=objects[(y, x)])\n",
    "    display(img.resize((600, 200)))"
   ]
  },
  {
   "cell_type": "code",
   "execution_count": 129,
   "metadata": {},
   "outputs": [
    {
     "name": "stdout",
     "output_type": "stream",
     "text": [
      "0\n",
      "0.01\n",
      "0.05\n",
      "0.1\n",
      "0.1\n"
     ]
    },
    {
     "name": "stderr",
     "output_type": "stream",
     "text": [
      "100%|██████████| 1000/1000 [00:00<00:00, 5192.67it/s]\n",
      "100%|██████████| 1000/1000 [00:00<00:00, 5981.51it/s]\n"
     ]
    },
    {
     "data": {
      "application/vnd.plotly.v1+json": {
       "config": {
        "plotlyServerURL": "https://plot.ly"
       },
       "data": [
        {
         "coloraxis": "coloraxis",
         "hovertemplate": "x: %{x}<br>y: %{y}<br>color: %{z}<extra></extra>",
         "name": "0",
         "texttemplate": "%{z:.2f}",
         "type": "heatmap",
         "xaxis": "x",
         "yaxis": "y",
         "z": [
          [
           -12.247897700103202,
           -12.247897700103202,
           -11.361512828387072,
           -10.466174574128356,
           -9.561792499119552,
           -8.64827525163591,
           -7.72553055720799,
           -6.793465209301,
           -5.8519850599,
           -4.90099501,
           -3.9403989999999998,
           -2.9701
          ],
          [
           -12.247897700103202,
           -11.361512828387072,
           -10.466174574128356,
           -9.561792499119552,
           -8.64827525163591,
           -7.72553055720799,
           -6.793465209301,
           -5.8519850599,
           -4.90099501,
           -3.9403989999999998,
           -2.9701,
           -1.99
          ],
          [
           -11.361512828387072,
           -10.466174574128356,
           -9.561792499119552,
           -8.64827525163591,
           -7.72553055720799,
           -6.793465209301,
           -5.8519850599,
           -4.90099501,
           -3.9403989999999998,
           -2.9701,
           -1.99,
           -1
          ],
          [
           -12.247897700103202,
           0,
           0,
           0,
           0,
           0,
           0,
           0,
           0,
           0,
           0,
           0
          ]
         ]
        }
       ],
       "layout": {
        "coloraxis": {
         "colorscale": [
          [
           0,
           "#0d0887"
          ],
          [
           0.1111111111111111,
           "#46039f"
          ],
          [
           0.2222222222222222,
           "#7201a8"
          ],
          [
           0.3333333333333333,
           "#9c179e"
          ],
          [
           0.4444444444444444,
           "#bd3786"
          ],
          [
           0.5555555555555556,
           "#d8576b"
          ],
          [
           0.6666666666666666,
           "#ed7953"
          ],
          [
           0.7777777777777778,
           "#fb9f3a"
          ],
          [
           0.8888888888888888,
           "#fdca26"
          ],
          [
           1,
           "#f0f921"
          ]
         ]
        },
        "template": {
         "data": {
          "bar": [
           {
            "error_x": {
             "color": "#2a3f5f"
            },
            "error_y": {
             "color": "#2a3f5f"
            },
            "marker": {
             "line": {
              "color": "#E5ECF6",
              "width": 0.5
             },
             "pattern": {
              "fillmode": "overlay",
              "size": 10,
              "solidity": 0.2
             }
            },
            "type": "bar"
           }
          ],
          "barpolar": [
           {
            "marker": {
             "line": {
              "color": "#E5ECF6",
              "width": 0.5
             },
             "pattern": {
              "fillmode": "overlay",
              "size": 10,
              "solidity": 0.2
             }
            },
            "type": "barpolar"
           }
          ],
          "carpet": [
           {
            "aaxis": {
             "endlinecolor": "#2a3f5f",
             "gridcolor": "white",
             "linecolor": "white",
             "minorgridcolor": "white",
             "startlinecolor": "#2a3f5f"
            },
            "baxis": {
             "endlinecolor": "#2a3f5f",
             "gridcolor": "white",
             "linecolor": "white",
             "minorgridcolor": "white",
             "startlinecolor": "#2a3f5f"
            },
            "type": "carpet"
           }
          ],
          "choropleth": [
           {
            "colorbar": {
             "outlinewidth": 0,
             "ticks": ""
            },
            "type": "choropleth"
           }
          ],
          "contour": [
           {
            "colorbar": {
             "outlinewidth": 0,
             "ticks": ""
            },
            "colorscale": [
             [
              0,
              "#0d0887"
             ],
             [
              0.1111111111111111,
              "#46039f"
             ],
             [
              0.2222222222222222,
              "#7201a8"
             ],
             [
              0.3333333333333333,
              "#9c179e"
             ],
             [
              0.4444444444444444,
              "#bd3786"
             ],
             [
              0.5555555555555556,
              "#d8576b"
             ],
             [
              0.6666666666666666,
              "#ed7953"
             ],
             [
              0.7777777777777778,
              "#fb9f3a"
             ],
             [
              0.8888888888888888,
              "#fdca26"
             ],
             [
              1,
              "#f0f921"
             ]
            ],
            "type": "contour"
           }
          ],
          "contourcarpet": [
           {
            "colorbar": {
             "outlinewidth": 0,
             "ticks": ""
            },
            "type": "contourcarpet"
           }
          ],
          "heatmap": [
           {
            "colorbar": {
             "outlinewidth": 0,
             "ticks": ""
            },
            "colorscale": [
             [
              0,
              "#0d0887"
             ],
             [
              0.1111111111111111,
              "#46039f"
             ],
             [
              0.2222222222222222,
              "#7201a8"
             ],
             [
              0.3333333333333333,
              "#9c179e"
             ],
             [
              0.4444444444444444,
              "#bd3786"
             ],
             [
              0.5555555555555556,
              "#d8576b"
             ],
             [
              0.6666666666666666,
              "#ed7953"
             ],
             [
              0.7777777777777778,
              "#fb9f3a"
             ],
             [
              0.8888888888888888,
              "#fdca26"
             ],
             [
              1,
              "#f0f921"
             ]
            ],
            "type": "heatmap"
           }
          ],
          "heatmapgl": [
           {
            "colorbar": {
             "outlinewidth": 0,
             "ticks": ""
            },
            "colorscale": [
             [
              0,
              "#0d0887"
             ],
             [
              0.1111111111111111,
              "#46039f"
             ],
             [
              0.2222222222222222,
              "#7201a8"
             ],
             [
              0.3333333333333333,
              "#9c179e"
             ],
             [
              0.4444444444444444,
              "#bd3786"
             ],
             [
              0.5555555555555556,
              "#d8576b"
             ],
             [
              0.6666666666666666,
              "#ed7953"
             ],
             [
              0.7777777777777778,
              "#fb9f3a"
             ],
             [
              0.8888888888888888,
              "#fdca26"
             ],
             [
              1,
              "#f0f921"
             ]
            ],
            "type": "heatmapgl"
           }
          ],
          "histogram": [
           {
            "marker": {
             "pattern": {
              "fillmode": "overlay",
              "size": 10,
              "solidity": 0.2
             }
            },
            "type": "histogram"
           }
          ],
          "histogram2d": [
           {
            "colorbar": {
             "outlinewidth": 0,
             "ticks": ""
            },
            "colorscale": [
             [
              0,
              "#0d0887"
             ],
             [
              0.1111111111111111,
              "#46039f"
             ],
             [
              0.2222222222222222,
              "#7201a8"
             ],
             [
              0.3333333333333333,
              "#9c179e"
             ],
             [
              0.4444444444444444,
              "#bd3786"
             ],
             [
              0.5555555555555556,
              "#d8576b"
             ],
             [
              0.6666666666666666,
              "#ed7953"
             ],
             [
              0.7777777777777778,
              "#fb9f3a"
             ],
             [
              0.8888888888888888,
              "#fdca26"
             ],
             [
              1,
              "#f0f921"
             ]
            ],
            "type": "histogram2d"
           }
          ],
          "histogram2dcontour": [
           {
            "colorbar": {
             "outlinewidth": 0,
             "ticks": ""
            },
            "colorscale": [
             [
              0,
              "#0d0887"
             ],
             [
              0.1111111111111111,
              "#46039f"
             ],
             [
              0.2222222222222222,
              "#7201a8"
             ],
             [
              0.3333333333333333,
              "#9c179e"
             ],
             [
              0.4444444444444444,
              "#bd3786"
             ],
             [
              0.5555555555555556,
              "#d8576b"
             ],
             [
              0.6666666666666666,
              "#ed7953"
             ],
             [
              0.7777777777777778,
              "#fb9f3a"
             ],
             [
              0.8888888888888888,
              "#fdca26"
             ],
             [
              1,
              "#f0f921"
             ]
            ],
            "type": "histogram2dcontour"
           }
          ],
          "mesh3d": [
           {
            "colorbar": {
             "outlinewidth": 0,
             "ticks": ""
            },
            "type": "mesh3d"
           }
          ],
          "parcoords": [
           {
            "line": {
             "colorbar": {
              "outlinewidth": 0,
              "ticks": ""
             }
            },
            "type": "parcoords"
           }
          ],
          "pie": [
           {
            "automargin": true,
            "type": "pie"
           }
          ],
          "scatter": [
           {
            "fillpattern": {
             "fillmode": "overlay",
             "size": 10,
             "solidity": 0.2
            },
            "type": "scatter"
           }
          ],
          "scatter3d": [
           {
            "line": {
             "colorbar": {
              "outlinewidth": 0,
              "ticks": ""
             }
            },
            "marker": {
             "colorbar": {
              "outlinewidth": 0,
              "ticks": ""
             }
            },
            "type": "scatter3d"
           }
          ],
          "scattercarpet": [
           {
            "marker": {
             "colorbar": {
              "outlinewidth": 0,
              "ticks": ""
             }
            },
            "type": "scattercarpet"
           }
          ],
          "scattergeo": [
           {
            "marker": {
             "colorbar": {
              "outlinewidth": 0,
              "ticks": ""
             }
            },
            "type": "scattergeo"
           }
          ],
          "scattergl": [
           {
            "marker": {
             "colorbar": {
              "outlinewidth": 0,
              "ticks": ""
             }
            },
            "type": "scattergl"
           }
          ],
          "scattermapbox": [
           {
            "marker": {
             "colorbar": {
              "outlinewidth": 0,
              "ticks": ""
             }
            },
            "type": "scattermapbox"
           }
          ],
          "scatterpolar": [
           {
            "marker": {
             "colorbar": {
              "outlinewidth": 0,
              "ticks": ""
             }
            },
            "type": "scatterpolar"
           }
          ],
          "scatterpolargl": [
           {
            "marker": {
             "colorbar": {
              "outlinewidth": 0,
              "ticks": ""
             }
            },
            "type": "scatterpolargl"
           }
          ],
          "scatterternary": [
           {
            "marker": {
             "colorbar": {
              "outlinewidth": 0,
              "ticks": ""
             }
            },
            "type": "scatterternary"
           }
          ],
          "surface": [
           {
            "colorbar": {
             "outlinewidth": 0,
             "ticks": ""
            },
            "colorscale": [
             [
              0,
              "#0d0887"
             ],
             [
              0.1111111111111111,
              "#46039f"
             ],
             [
              0.2222222222222222,
              "#7201a8"
             ],
             [
              0.3333333333333333,
              "#9c179e"
             ],
             [
              0.4444444444444444,
              "#bd3786"
             ],
             [
              0.5555555555555556,
              "#d8576b"
             ],
             [
              0.6666666666666666,
              "#ed7953"
             ],
             [
              0.7777777777777778,
              "#fb9f3a"
             ],
             [
              0.8888888888888888,
              "#fdca26"
             ],
             [
              1,
              "#f0f921"
             ]
            ],
            "type": "surface"
           }
          ],
          "table": [
           {
            "cells": {
             "fill": {
              "color": "#EBF0F8"
             },
             "line": {
              "color": "white"
             }
            },
            "header": {
             "fill": {
              "color": "#C8D4E3"
             },
             "line": {
              "color": "white"
             }
            },
            "type": "table"
           }
          ]
         },
         "layout": {
          "annotationdefaults": {
           "arrowcolor": "#2a3f5f",
           "arrowhead": 0,
           "arrowwidth": 1
          },
          "autotypenumbers": "strict",
          "coloraxis": {
           "colorbar": {
            "outlinewidth": 0,
            "ticks": ""
           }
          },
          "colorscale": {
           "diverging": [
            [
             0,
             "#8e0152"
            ],
            [
             0.1,
             "#c51b7d"
            ],
            [
             0.2,
             "#de77ae"
            ],
            [
             0.3,
             "#f1b6da"
            ],
            [
             0.4,
             "#fde0ef"
            ],
            [
             0.5,
             "#f7f7f7"
            ],
            [
             0.6,
             "#e6f5d0"
            ],
            [
             0.7,
             "#b8e186"
            ],
            [
             0.8,
             "#7fbc41"
            ],
            [
             0.9,
             "#4d9221"
            ],
            [
             1,
             "#276419"
            ]
           ],
           "sequential": [
            [
             0,
             "#0d0887"
            ],
            [
             0.1111111111111111,
             "#46039f"
            ],
            [
             0.2222222222222222,
             "#7201a8"
            ],
            [
             0.3333333333333333,
             "#9c179e"
            ],
            [
             0.4444444444444444,
             "#bd3786"
            ],
            [
             0.5555555555555556,
             "#d8576b"
            ],
            [
             0.6666666666666666,
             "#ed7953"
            ],
            [
             0.7777777777777778,
             "#fb9f3a"
            ],
            [
             0.8888888888888888,
             "#fdca26"
            ],
            [
             1,
             "#f0f921"
            ]
           ],
           "sequentialminus": [
            [
             0,
             "#0d0887"
            ],
            [
             0.1111111111111111,
             "#46039f"
            ],
            [
             0.2222222222222222,
             "#7201a8"
            ],
            [
             0.3333333333333333,
             "#9c179e"
            ],
            [
             0.4444444444444444,
             "#bd3786"
            ],
            [
             0.5555555555555556,
             "#d8576b"
            ],
            [
             0.6666666666666666,
             "#ed7953"
            ],
            [
             0.7777777777777778,
             "#fb9f3a"
            ],
            [
             0.8888888888888888,
             "#fdca26"
            ],
            [
             1,
             "#f0f921"
            ]
           ]
          },
          "colorway": [
           "#636efa",
           "#EF553B",
           "#00cc96",
           "#ab63fa",
           "#FFA15A",
           "#19d3f3",
           "#FF6692",
           "#B6E880",
           "#FF97FF",
           "#FECB52"
          ],
          "font": {
           "color": "#2a3f5f"
          },
          "geo": {
           "bgcolor": "white",
           "lakecolor": "white",
           "landcolor": "#E5ECF6",
           "showlakes": true,
           "showland": true,
           "subunitcolor": "white"
          },
          "hoverlabel": {
           "align": "left"
          },
          "hovermode": "closest",
          "mapbox": {
           "style": "light"
          },
          "paper_bgcolor": "white",
          "plot_bgcolor": "#E5ECF6",
          "polar": {
           "angularaxis": {
            "gridcolor": "white",
            "linecolor": "white",
            "ticks": ""
           },
           "bgcolor": "#E5ECF6",
           "radialaxis": {
            "gridcolor": "white",
            "linecolor": "white",
            "ticks": ""
           }
          },
          "scene": {
           "xaxis": {
            "backgroundcolor": "#E5ECF6",
            "gridcolor": "white",
            "gridwidth": 2,
            "linecolor": "white",
            "showbackground": true,
            "ticks": "",
            "zerolinecolor": "white"
           },
           "yaxis": {
            "backgroundcolor": "#E5ECF6",
            "gridcolor": "white",
            "gridwidth": 2,
            "linecolor": "white",
            "showbackground": true,
            "ticks": "",
            "zerolinecolor": "white"
           },
           "zaxis": {
            "backgroundcolor": "#E5ECF6",
            "gridcolor": "white",
            "gridwidth": 2,
            "linecolor": "white",
            "showbackground": true,
            "ticks": "",
            "zerolinecolor": "white"
           }
          },
          "shapedefaults": {
           "line": {
            "color": "#2a3f5f"
           }
          },
          "ternary": {
           "aaxis": {
            "gridcolor": "white",
            "linecolor": "white",
            "ticks": ""
           },
           "baxis": {
            "gridcolor": "white",
            "linecolor": "white",
            "ticks": ""
           },
           "bgcolor": "#E5ECF6",
           "caxis": {
            "gridcolor": "white",
            "linecolor": "white",
            "ticks": ""
           }
          },
          "title": {
           "x": 0.05
          },
          "xaxis": {
           "automargin": true,
           "gridcolor": "white",
           "linecolor": "white",
           "ticks": "",
           "title": {
            "standoff": 15
           },
           "zerolinecolor": "white",
           "zerolinewidth": 2
          },
          "yaxis": {
           "automargin": true,
           "gridcolor": "white",
           "linecolor": "white",
           "ticks": "",
           "title": {
            "standoff": 15
           },
           "zerolinecolor": "white",
           "zerolinewidth": 2
          }
         }
        },
        "title": {
         "text": "QLearning-0.1"
        },
        "xaxis": {
         "anchor": "y",
         "constrain": "domain",
         "domain": [
          0,
          1
         ],
         "scaleanchor": "y"
        },
        "yaxis": {
         "anchor": "x",
         "autorange": "reversed",
         "constrain": "domain",
         "domain": [
          0,
          1
         ]
        }
       }
      }
     },
     "metadata": {},
     "output_type": "display_data"
    },
    {
     "data": {
      "image/png": "[encoded data removed]",
      "text/plain": [
       "<PIL.Image.Image image mode=RGB size=600x200>"
      ]
     },
     "metadata": {},
     "output_type": "display_data"
    },
    {
     "data": {
      "application/vnd.plotly.v1+json": {
       "config": {
        "plotlyServerURL": "https://plot.ly"
       },
       "data": [
        {
         "coloraxis": "coloraxis",
         "hovertemplate": "x: %{x}<br>y: %{y}<br>color: %{z}<extra></extra>",
         "name": "0",
         "texttemplate": "%{z:.2f}",
         "type": "heatmap",
         "xaxis": "x",
         "yaxis": "y",
         "z": [
          [
           -26.02996266117195,
           -25.282790566840355,
           -24.528071279636723,
           -23.76572856528962,
           -22.995685419484467,
           -22.21786406008532,
           -21.4321859192781,
           -20.638571635634445,
           -19.8369410460954,
           -19.027213177874142,
           -18.209306240276913,
           -2.9701
          ],
          [
           -27.501966404214627,
           -26.76966303456023,
           -26.02996266117195,
           -25.282790566840355,
           -24.528071279636723,
           -23.76572856528962,
           -22.995685419484467,
           -22.21786406008532,
           -21.4321859192781,
           -20.638571635634445,
           -19.8369410460954,
           -1.99
          ],
          [
           -28.22694674017248,
           -27.501966404214627,
           -26.76966303456023,
           -26.02996266117195,
           -25.282790566840355,
           -24.528071279636723,
           -23.76572856528962,
           -22.995685419484467,
           -22.21786406008532,
           -21.4321859192781,
           -20.638571635634445,
           -1
          ],
          [
           -28.944677272770754,
           0,
           0,
           0,
           0,
           0,
           0,
           0,
           0,
           0,
           0,
           0
          ]
         ]
        }
       ],
       "layout": {
        "coloraxis": {
         "colorscale": [
          [
           0,
           "#0d0887"
          ],
          [
           0.1111111111111111,
           "#46039f"
          ],
          [
           0.2222222222222222,
           "#7201a8"
          ],
          [
           0.3333333333333333,
           "#9c179e"
          ],
          [
           0.4444444444444444,
           "#bd3786"
          ],
          [
           0.5555555555555556,
           "#d8576b"
          ],
          [
           0.6666666666666666,
           "#ed7953"
          ],
          [
           0.7777777777777778,
           "#fb9f3a"
          ],
          [
           0.8888888888888888,
           "#fdca26"
          ],
          [
           1,
           "#f0f921"
          ]
         ]
        },
        "template": {
         "data": {
          "bar": [
           {
            "error_x": {
             "color": "#2a3f5f"
            },
            "error_y": {
             "color": "#2a3f5f"
            },
            "marker": {
             "line": {
              "color": "#E5ECF6",
              "width": 0.5
             },
             "pattern": {
              "fillmode": "overlay",
              "size": 10,
              "solidity": 0.2
             }
            },
            "type": "bar"
           }
          ],
          "barpolar": [
           {
            "marker": {
             "line": {
              "color": "#E5ECF6",
              "width": 0.5
             },
             "pattern": {
              "fillmode": "overlay",
              "size": 10,
              "solidity": 0.2
             }
            },
            "type": "barpolar"
           }
          ],
          "carpet": [
           {
            "aaxis": {
             "endlinecolor": "#2a3f5f",
             "gridcolor": "white",
             "linecolor": "white",
             "minorgridcolor": "white",
             "startlinecolor": "#2a3f5f"
            },
            "baxis": {
             "endlinecolor": "#2a3f5f",
             "gridcolor": "white",
             "linecolor": "white",
             "minorgridcolor": "white",
             "startlinecolor": "#2a3f5f"
            },
            "type": "carpet"
           }
          ],
          "choropleth": [
           {
            "colorbar": {
             "outlinewidth": 0,
             "ticks": ""
            },
            "type": "choropleth"
           }
          ],
          "contour": [
           {
            "colorbar": {
             "outlinewidth": 0,
             "ticks": ""
            },
            "colorscale": [
             [
              0,
              "#0d0887"
             ],
             [
              0.1111111111111111,
              "#46039f"
             ],
             [
              0.2222222222222222,
              "#7201a8"
             ],
             [
              0.3333333333333333,
              "#9c179e"
             ],
             [
              0.4444444444444444,
              "#bd3786"
             ],
             [
              0.5555555555555556,
              "#d8576b"
             ],
             [
              0.6666666666666666,
              "#ed7953"
             ],
             [
              0.7777777777777778,
              "#fb9f3a"
             ],
             [
              0.8888888888888888,
              "#fdca26"
             ],
             [
              1,
              "#f0f921"
             ]
            ],
            "type": "contour"
           }
          ],
          "contourcarpet": [
           {
            "colorbar": {
             "outlinewidth": 0,
             "ticks": ""
            },
            "type": "contourcarpet"
           }
          ],
          "heatmap": [
           {
            "colorbar": {
             "outlinewidth": 0,
             "ticks": ""
            },
            "colorscale": [
             [
              0,
              "#0d0887"
             ],
             [
              0.1111111111111111,
              "#46039f"
             ],
             [
              0.2222222222222222,
              "#7201a8"
             ],
             [
              0.3333333333333333,
              "#9c179e"
             ],
             [
              0.4444444444444444,
              "#bd3786"
             ],
             [
              0.5555555555555556,
              "#d8576b"
             ],
             [
              0.6666666666666666,
              "#ed7953"
             ],
             [
              0.7777777777777778,
              "#fb9f3a"
             ],
             [
              0.8888888888888888,
              "#fdca26"
             ],
             [
              1,
              "#f0f921"
             ]
            ],
            "type": "heatmap"
           }
          ],
          "heatmapgl": [
           {
            "colorbar": {
             "outlinewidth": 0,
             "ticks": ""
            },
            "colorscale": [
             [
              0,
              "#0d0887"
             ],
             [
              0.1111111111111111,
              "#46039f"
             ],
             [
              0.2222222222222222,
              "#7201a8"
             ],
             [
              0.3333333333333333,
              "#9c179e"
             ],
             [
              0.4444444444444444,
              "#bd3786"
             ],
             [
              0.5555555555555556,
              "#d8576b"
             ],
             [
              0.6666666666666666,
              "#ed7953"
             ],
             [
              0.7777777777777778,
              "#fb9f3a"
             ],
             [
              0.8888888888888888,
              "#fdca26"
             ],
             [
              1,
              "#f0f921"
             ]
            ],
            "type": "heatmapgl"
           }
          ],
          "histogram": [
           {
            "marker": {
             "pattern": {
              "fillmode": "overlay",
              "size": 10,
              "solidity": 0.2
             }
            },
            "type": "histogram"
           }
          ],
          "histogram2d": [
           {
            "colorbar": {
             "outlinewidth": 0,
             "ticks": ""
            },
            "colorscale": [
             [
              0,
              "#0d0887"
             ],
             [
              0.1111111111111111,
              "#46039f"
             ],
             [
              0.2222222222222222,
              "#7201a8"
             ],
             [
              0.3333333333333333,
              "#9c179e"
             ],
             [
              0.4444444444444444,
              "#bd3786"
             ],
             [
              0.5555555555555556,
              "#d8576b"
             ],
             [
              0.6666666666666666,
              "#ed7953"
             ],
             [
              0.7777777777777778,
              "#fb9f3a"
             ],
             [
              0.8888888888888888,
              "#fdca26"
             ],
             [
              1,
              "#f0f921"
             ]
            ],
            "type": "histogram2d"
           }
          ],
          "histogram2dcontour": [
           {
            "colorbar": {
             "outlinewidth": 0,
             "ticks": ""
            },
            "colorscale": [
             [
              0,
              "#0d0887"
             ],
             [
              0.1111111111111111,
              "#46039f"
             ],
             [
              0.2222222222222222,
              "#7201a8"
             ],
             [
              0.3333333333333333,
              "#9c179e"
             ],
             [
              0.4444444444444444,
              "#bd3786"
             ],
             [
              0.5555555555555556,
              "#d8576b"
             ],
             [
              0.6666666666666666,
              "#ed7953"
             ],
             [
              0.7777777777777778,
              "#fb9f3a"
             ],
             [
              0.8888888888888888,
              "#fdca26"
             ],
             [
              1,
              "#f0f921"
             ]
            ],
            "type": "histogram2dcontour"
           }
          ],
          "mesh3d": [
           {
            "colorbar": {
             "outlinewidth": 0,
             "ticks": ""
            },
            "type": "mesh3d"
           }
          ],
          "parcoords": [
           {
            "line": {
             "colorbar": {
              "outlinewidth": 0,
              "ticks": ""
             }
            },
            "type": "parcoords"
           }
          ],
          "pie": [
           {
            "automargin": true,
            "type": "pie"
           }
          ],
          "scatter": [
           {
            "fillpattern": {
             "fillmode": "overlay",
             "size": 10,
             "solidity": 0.2
            },
            "type": "scatter"
           }
          ],
          "scatter3d": [
           {
            "line": {
             "colorbar": {
              "outlinewidth": 0,
              "ticks": ""
             }
            },
            "marker": {
             "colorbar": {
              "outlinewidth": 0,
              "ticks": ""
             }
            },
            "type": "scatter3d"
           }
          ],
          "scattercarpet": [
           {
            "marker": {
             "colorbar": {
              "outlinewidth": 0,
              "ticks": ""
             }
            },
            "type": "scattercarpet"
           }
          ],
          "scattergeo": [
           {
            "marker": {
             "colorbar": {
              "outlinewidth": 0,
              "ticks": ""
             }
            },
            "type": "scattergeo"
           }
          ],
          "scattergl": [
           {
            "marker": {
             "colorbar": {
              "outlinewidth": 0,
              "ticks": ""
             }
            },
            "type": "scattergl"
           }
          ],
          "scattermapbox": [
           {
            "marker": {
             "colorbar": {
              "outlinewidth": 0,
              "ticks": ""
             }
            },
            "type": "scattermapbox"
           }
          ],
          "scatterpolar": [
           {
            "marker": {
             "colorbar": {
              "outlinewidth": 0,
              "ticks": ""
             }
            },
            "type": "scatterpolar"
           }
          ],
          "scatterpolargl": [
           {
            "marker": {
             "colorbar": {
              "outlinewidth": 0,
              "ticks": ""
             }
            },
            "type": "scatterpolargl"
           }
          ],
          "scatterternary": [
           {
            "marker": {
             "colorbar": {
              "outlinewidth": 0,
              "ticks": ""
             }
            },
            "type": "scatterternary"
           }
          ],
          "surface": [
           {
            "colorbar": {
             "outlinewidth": 0,
             "ticks": ""
            },
            "colorscale": [
             [
              0,
              "#0d0887"
             ],
             [
              0.1111111111111111,
              "#46039f"
             ],
             [
              0.2222222222222222,
              "#7201a8"
             ],
             [
              0.3333333333333333,
              "#9c179e"
             ],
             [
              0.4444444444444444,
              "#bd3786"
             ],
             [
              0.5555555555555556,
              "#d8576b"
             ],
             [
              0.6666666666666666,
              "#ed7953"
             ],
             [
              0.7777777777777778,
              "#fb9f3a"
             ],
             [
              0.8888888888888888,
              "#fdca26"
             ],
             [
              1,
              "#f0f921"
             ]
            ],
            "type": "surface"
           }
          ],
          "table": [
           {
            "cells": {
             "fill": {
              "color": "#EBF0F8"
             },
             "line": {
              "color": "white"
             }
            },
            "header": {
             "fill": {
              "color": "#C8D4E3"
             },
             "line": {
              "color": "white"
             }
            },
            "type": "table"
           }
          ]
         },
         "layout": {
          "annotationdefaults": {
           "arrowcolor": "#2a3f5f",
           "arrowhead": 0,
           "arrowwidth": 1
          },
          "autotypenumbers": "strict",
          "coloraxis": {
           "colorbar": {
            "outlinewidth": 0,
            "ticks": ""
           }
          },
          "colorscale": {
           "diverging": [
            [
             0,
             "#8e0152"
            ],
            [
             0.1,
             "#c51b7d"
            ],
            [
             0.2,
             "#de77ae"
            ],
            [
             0.3,
             "#f1b6da"
            ],
            [
             0.4,
             "#fde0ef"
            ],
            [
             0.5,
             "#f7f7f7"
            ],
            [
             0.6,
             "#e6f5d0"
            ],
            [
             0.7,
             "#b8e186"
            ],
            [
             0.8,
             "#7fbc41"
            ],
            [
             0.9,
             "#4d9221"
            ],
            [
             1,
             "#276419"
            ]
           ],
           "sequential": [
            [
             0,
             "#0d0887"
            ],
            [
             0.1111111111111111,
             "#46039f"
            ],
            [
             0.2222222222222222,
             "#7201a8"
            ],
            [
             0.3333333333333333,
             "#9c179e"
            ],
            [
             0.4444444444444444,
             "#bd3786"
            ],
            [
             0.5555555555555556,
             "#d8576b"
            ],
            [
             0.6666666666666666,
             "#ed7953"
            ],
            [
             0.7777777777777778,
             "#fb9f3a"
            ],
            [
             0.8888888888888888,
             "#fdca26"
            ],
            [
             1,
             "#f0f921"
            ]
           ],
           "sequentialminus": [
            [
             0,
             "#0d0887"
            ],
            [
             0.1111111111111111,
             "#46039f"
            ],
            [
             0.2222222222222222,
             "#7201a8"
            ],
            [
             0.3333333333333333,
             "#9c179e"
            ],
            [
             0.4444444444444444,
             "#bd3786"
            ],
            [
             0.5555555555555556,
             "#d8576b"
            ],
            [
             0.6666666666666666,
             "#ed7953"
            ],
            [
             0.7777777777777778,
             "#fb9f3a"
            ],
            [
             0.8888888888888888,
             "#fdca26"
            ],
            [
             1,
             "#f0f921"
            ]
           ]
          },
          "colorway": [
           "#636efa",
           "#EF553B",
           "#00cc96",
           "#ab63fa",
           "#FFA15A",
           "#19d3f3",
           "#FF6692",
           "#B6E880",
           "#FF97FF",
           "#FECB52"
          ],
          "font": {
           "color": "#2a3f5f"
          },
          "geo": {
           "bgcolor": "white",
           "lakecolor": "white",
           "landcolor": "#E5ECF6",
           "showlakes": true,
           "showland": true,
           "subunitcolor": "white"
          },
          "hoverlabel": {
           "align": "left"
          },
          "hovermode": "closest",
          "mapbox": {
           "style": "light"
          },
          "paper_bgcolor": "white",
          "plot_bgcolor": "#E5ECF6",
          "polar": {
           "angularaxis": {
            "gridcolor": "white",
            "linecolor": "white",
            "ticks": ""
           },
           "bgcolor": "#E5ECF6",
           "radialaxis": {
            "gridcolor": "white",
            "linecolor": "white",
            "ticks": ""
           }
          },
          "scene": {
           "xaxis": {
            "backgroundcolor": "#E5ECF6",
            "gridcolor": "white",
            "gridwidth": 2,
            "linecolor": "white",
            "showbackground": true,
            "ticks": "",
            "zerolinecolor": "white"
           },
           "yaxis": {
            "backgroundcolor": "#E5ECF6",
            "gridcolor": "white",
            "gridwidth": 2,
            "linecolor": "white",
            "showbackground": true,
            "ticks": "",
            "zerolinecolor": "white"
           },
           "zaxis": {
            "backgroundcolor": "#E5ECF6",
            "gridcolor": "white",
            "gridwidth": 2,
            "linecolor": "white",
            "showbackground": true,
            "ticks": "",
            "zerolinecolor": "white"
           }
          },
          "shapedefaults": {
           "line": {
            "color": "#2a3f5f"
           }
          },
          "ternary": {
           "aaxis": {
            "gridcolor": "white",
            "linecolor": "white",
            "ticks": ""
           },
           "baxis": {
            "gridcolor": "white",
            "linecolor": "white",
            "ticks": ""
           },
           "bgcolor": "#E5ECF6",
           "caxis": {
            "gridcolor": "white",
            "linecolor": "white",
            "ticks": ""
           }
          },
          "title": {
           "x": 0.05
          },
          "xaxis": {
           "automargin": true,
           "gridcolor": "white",
           "linecolor": "white",
           "ticks": "",
           "title": {
            "standoff": 15
           },
           "zerolinecolor": "white",
           "zerolinewidth": 2
          },
          "yaxis": {
           "automargin": true,
           "gridcolor": "white",
           "linecolor": "white",
           "ticks": "",
           "title": {
            "standoff": 15
           },
           "zerolinecolor": "white",
           "zerolinewidth": 2
          }
         }
        },
        "title": {
         "text": "SARSA-0.1"
        },
        "xaxis": {
         "anchor": "y",
         "constrain": "domain",
         "domain": [
          0,
          1
         ],
         "scaleanchor": "y"
        },
        "yaxis": {
         "anchor": "x",
         "autorange": "reversed",
         "constrain": "domain",
         "domain": [
          0,
          1
         ]
        }
       }
      }
     },
     "metadata": {},
     "output_type": "display_data"
    },
    {
     "data": {
      "image/png": "[encoded data removed]",
      "text/plain": [
       "<PIL.Image.Image image mode=RGB size=600x200>"
      ]
     },
     "metadata": {},
     "output_type": "display_data"
    },
    {
     "data": {
      "image/png": "[encoded data removed]",
      "text/plain": [
       "<Figure size 640x480 with 1 Axes>"
      ]
     },
     "metadata": {},
     "output_type": "display_data"
    }
   ],
   "source": [
    "if MAIN:\n",
    "    env_norvig: DiscreteEnviroGym = gym.make(\"CliffWalking-v0\")\n",
    "    n_runs = 1000\n",
    "    gamma = 0.99\n",
    "    seed = 1\n",
    "    config_norvig = AgentConfig(lr=1)\n",
    "    configs_eps = [AgentConfig(epsilon=eps) for eps in [0, 0.01, 0.05, 0.1]]\n",
    "    args_eps = [(env_norvig, cfg, gamma, seed) for cfg in configs_eps]\n",
    "    agents_eps = [QLearning(*args) for args in args_eps]\n",
    "    args_nor = (env_norvig, config_norvig, gamma, seed)\n",
    "    agents_norvig = []\n",
    "    # agents_norvig.append(Cheater(*args_nor))\n",
    "    agents_norvig.append(QLearning(*args_nor))\n",
    "    # agents_norvig.append(Random(*args_nor))\n",
    "    agents_norvig.append(SARSA(*args_nor))\n",
    "    # agents_norvig = agents_eps\n",
    "\n",
    "    # bargs = [(env_norvig, conf, gamma, seed) for conf in [AgentConfig(epsilon=eps) for eps in [0.0, 0.1, 0.5, 20]]]\n",
    "    # bgents_norvig = [QLearning(*args) for args in bargs]\n",
    "    # agents_norvig.extend(bgents_norvig)\n",
    "    \n",
    "    \n",
    "    returns_norvig = {}\n",
    "    for agent in agents_norvig:\n",
    "        new_name = f'{agent.name}-{agent.config.epsilon}'\n",
    "        returns_norvig[new_name] = agent.train(n_runs)\n",
    "if MAIN:\n",
    "    for agent in agents_norvig:\n",
    "        name = f'{agent.name}-{agent.config.epsilon}'\n",
    "        show_cliff_value(agent.Q, title=name)\n",
    "        show_cliff_policy(agent.Q)\n",
    "        plt.plot(utils.cummean(returns_norvig[name]), label=name)\n",
    "    plt.legend()\n",
    "    plt.title(f\"Avg. reward on {env_toy.spec.name}\")\n",
    "    plt.show()"
   ]
  },
  {
   "cell_type": "code",
   "execution_count": null,
   "metadata": {},
   "outputs": [],
   "source": [
    "\n",
    "\n"
   ]
  }
 ],
 "metadata": {
  "kernelspec": {
   "display_name": "Python 3.9.6 ('venv': venv)",
   "language": "python",
   "name": "python3"
  },
  "language_info": {
   "codemirror_mode": {
    "name": "ipython",
    "version": 3
   },
   "file_extension": ".py",
   "mimetype": "text/x-python",
   "name": "python",
   "nbconvert_exporter": "python",
   "pygments_lexer": "ipython3",
   "version": "3.9.6"
  },
  "orig_nbformat": 4,
  "vscode": {
   "interpreter": {
    "hash": "a41fdc720b403cff5d22ec3440153970555b5fcc336583b0458a17a41b31d53f"
   }
  }
 },
 "nbformat": 4,
 "nbformat_minor": 2
}
