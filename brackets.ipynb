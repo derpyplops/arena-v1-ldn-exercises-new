{
 "cells": [
  {
   "cell_type": "code",
   "execution_count": 293,
   "metadata": {},
   "outputs": [],
   "source": [
    "import torch as t\n",
    "from torch import nn\n",
    "from torch.nn import functional as F\n",
    "from torch.utils.data import DataLoader\n",
    "from torch.utils.data.dataset import TensorDataset\n",
    "from einops import rearrange\n",
    "from torch.nn import functional as F\n",
    "from tqdm import tqdm\n",
    "import random"
   ]
  },
  {
   "cell_type": "code",
   "execution_count": 294,
   "metadata": {},
   "outputs": [],
   "source": [
    "p = print"
   ]
  },
  {
   "cell_type": "code",
   "execution_count": 295,
   "metadata": {},
   "outputs": [],
   "source": [
    "def generate_bracket_string(maxsize):\n",
    "    BDICT = {\n",
    "        '(': ')',\n",
    "        '[': ']',\n",
    "        '{': '}',\n",
    "    }\n",
    "    bracket_string = ''\n",
    "    stack = []\n",
    "    for _ in range(int(maxsize * 0.9)):\n",
    "        if len(stack) == 0 or t.rand(1) < 0.5: # put new bracket\n",
    "            bracket = random.choice(list(BDICT.keys()))\n",
    "            stack.append(BDICT[bracket])\n",
    "        else:\n",
    "            bracket = stack.pop()\n",
    "        bracket_string += bracket\n",
    "    while len(stack) > 0:\n",
    "        bracket_string += stack.pop()\n",
    "    if len(bracket_string) > maxsize:\n",
    "        return generate_bracket_string(maxsize)\n",
    "    else:\n",
    "        return bracket_string\n"
   ]
  },
  {
   "cell_type": "code",
   "execution_count": 296,
   "metadata": {},
   "outputs": [
    {
     "name": "stdout",
     "output_type": "stream",
     "text": [
      "Average len: 465.628\n"
     ]
    }
   ],
   "source": [
    "# mean with these params is 517.3\n",
    "BLEN = 500\n",
    "ITERS = 1000\n",
    "p(f'Average len: {sum([len(generate_bracket_string(BLEN)) for _ in range(ITERS)])/ITERS}')\n"
   ]
  },
  {
   "cell_type": "code",
   "execution_count": 297,
   "metadata": {},
   "outputs": [
    {
     "data": {
      "text/plain": [
       "'[{}][]{}()'"
      ]
     },
     "execution_count": 297,
     "metadata": {},
     "output_type": "execute_result"
    }
   ],
   "source": [
    "generate_bracket_string(10)"
   ]
  },
  {
   "cell_type": "code",
   "execution_count": 298,
   "metadata": {},
   "outputs": [],
   "source": [
    "def isValid(s: str) -> bool:\n",
    "        stack = []\n",
    "        for char in s:\n",
    "            try:\n",
    "                if char == '(':\n",
    "                    stack.append(char)\n",
    "                elif char == ')':\n",
    "                    if stack.pop() != '(':\n",
    "                        return False\n",
    "                elif char == '[':\n",
    "                    stack.append(char)\n",
    "                elif char == ']':\n",
    "                    if stack.pop() != '[':\n",
    "                        return False\n",
    "                elif char == '{':\n",
    "                    stack.append(char)\n",
    "                elif char == '}':\n",
    "                    if stack.pop() != '{':\n",
    "                        return False\n",
    "                else:\n",
    "                    raise Exception('Invalid character')\n",
    "            except:\n",
    "                return False\n",
    "        return len(stack) == 0"
   ]
  },
  {
   "cell_type": "code",
   "execution_count": 299,
   "metadata": {},
   "outputs": [],
   "source": [
    "def make_invalid_bracket_string(size):\n",
    "    bracket_string = generate_bracket_string(size)\n",
    "    # change random brackets to invalid\n",
    "    corrupt_size = random.randint(1, int(size * 0.1))\n",
    "    for _ in range(corrupt_size):\n",
    "        bracket_string = bracket_string.replace(random.choice(list('()[]{}')), random.choice(list('()[]{}')), 1)\n",
    "\n",
    "    if isValid(bracket_string):\n",
    "        return make_invalid_bracket_string(size)\n",
    "    else:\n",
    "        return bracket_string\n",
    "\n",
    "assert [isValid(make_invalid_bracket_string(10)) for i in range(1000)].count(False) == 1000"
   ]
  },
  {
   "cell_type": "code",
   "execution_count": 300,
   "metadata": {},
   "outputs": [],
   "source": [
    "# create dataset with bracket strings\n",
    "# and labels for each bracket\n",
    "\n",
    "# tokenizer for brackets\n",
    "class BracketTokenizer:\n",
    "    def __init__(self, vocab, maxlen):\n",
    "        self.maxlen = maxlen\n",
    "        self.vocab = vocab\n",
    "        self.vocab_size = len(vocab)\n",
    "        self.vocab_inv = {v: k for k, v in vocab.items()}\n",
    "        self.pad_token_id = self.vocab['[PAD]']\n",
    "        self.cls_token_id = self.vocab['[CLS]']\n",
    "        self.sep_token_id = self.vocab['[SEP]']\n",
    "        self.mask_token_id = self.vocab['[MASK]']\n",
    "        self.unk_token_id = self.vocab['[UNK]']\n",
    "        self.vocab_inv = {v: k for k, v in vocab.items()}\n",
    "        self.vocab_inv[self.pad_token_id] = '[PAD]'\n",
    "        self.vocab_inv[self.cls_token_id] = '[CLS]'\n",
    "        self.vocab_inv[self.sep_token_id] = '[SEP]'\n",
    "        self.vocab_inv[self.mask_token_id] = '[MASK]'\n",
    "\n",
    "    def convert_tokens_to_ids(self, tokens):\n",
    "        return [self.vocab[token] for token in tokens]\n",
    "\n",
    "    def convert_ids_to_tokens(self, ids):\n",
    "        return [self.vocab_inv[id] for id in ids]\n",
    "\n",
    "    def __call__(self, text):\n",
    "        return self.encode(text)\n",
    "\n",
    "    def encode(self, text):\n",
    "        assert len(text) + 2 <= self.maxlen\n",
    "        ids = self.convert_tokens_to_ids(text)\n",
    "        ids = [self.cls_token_id] + ids + [self.sep_token_id] # add cls and sep tokens\n",
    "        ids = ids + [self.pad_token_id] * (self.maxlen - len(ids)) # pad to max len\n",
    "        return ids\n",
    "\n",
    "    def decode(self, ids):\n",
    "        if type(ids) == t.Tensor:\n",
    "            ids = ids.tolist()\n",
    "        ids = [id for id in ids if id != self.pad_token_id]\n",
    "        # remove cls and sep tokens if present\n",
    "        if ids[0] == self.cls_token_id:\n",
    "            ids = ids[1:]\n",
    "        if ids[-1] == self.sep_token_id:\n",
    "            ids = ids[:-1]\n",
    "        tokens = ''.join(self.convert_ids_to_tokens(ids))\n",
    "        return tokens\n",
    "\n",
    "vocab = {'(': 0, ')': 1, '[': 2, ']': 3, '{': 4, '}': 5, '[PAD]': 6, '[CLS]': 7, '[SEP]': 8, '[MASK]': 9, '[UNK]': 10}\n",
    "tokenizer = BracketTokenizer(vocab, maxlen=512)\n"
   ]
  },
  {
   "cell_type": "code",
   "execution_count": 301,
   "metadata": {},
   "outputs": [
    {
     "name": "stdout",
     "output_type": "stream",
     "text": [
      "512\n"
     ]
    }
   ],
   "source": [
    "print(tokenizer.maxlen)"
   ]
  },
  {
   "cell_type": "code",
   "execution_count": 302,
   "metadata": {},
   "outputs": [
    {
     "name": "stdout",
     "output_type": "stream",
     "text": [
      "{{}[]}()[]\n",
      "(()){}([])\n",
      "[]({()}){}\n",
      "[[]]{{}}[]\n",
      "{}[]{([])}\n",
      "{}(){}[()]\n",
      "{()}[]{[]}\n",
      "(({}{})())\n",
      "{}({[]})[]\n",
      "{}{[]()}{}\n"
     ]
    }
   ],
   "source": [
    "bracketss = [generate_bracket_string(10) for _ in range(10)]\n",
    "for brackets in bracketss:\n",
    "    print(brackets)\n",
    "    assert len(tokenizer(brackets)) == 512\n",
    "    assert tokenizer.decode(tokenizer(brackets)) == brackets"
   ]
  },
  {
   "cell_type": "code",
   "execution_count": 303,
   "metadata": {},
   "outputs": [],
   "source": [
    "class BracketDataset(TensorDataset):\n",
    "    def __init__(self, size, tokenizer: BracketTokenizer, validfrac=0.7):\n",
    "        self.tokenizer = tokenizer\n",
    "        self.size = size\n",
    "        self.validfrac = validfrac\n",
    "        self.rng = random.Random(42)\n",
    "        self.train = self._make_dataset()\n",
    "        super().__init__(*self.train)\n",
    "    \n",
    "    def _make_dataset(self):\n",
    "        validsize = int(self.size * self.validfrac)\n",
    "        invalidsize = self.size - validsize\n",
    "        valid_bracket_strings = [self.tokenizer(generate_bracket_string(BLEN)) for _ in range(validsize)]\n",
    "        valid_bracket_labels = [1] * validsize\n",
    "        invalid_bracket_strings = [self.tokenizer(make_invalid_bracket_string(BLEN)) for _ in range(invalidsize)]\n",
    "        invalid_bracket_labels = [0] * invalidsize\n",
    "        \n",
    "        bracket_strings = valid_bracket_strings + invalid_bracket_strings\n",
    "        bracket_labels = valid_bracket_labels + invalid_bracket_labels\n",
    "        # shuffle\n",
    "        zipped = list(zip(bracket_strings, bracket_labels))\n",
    "        self.rng.shuffle(zipped)\n",
    "        bracket_strings, bracket_labels = zip(*zipped)\n",
    "        # to tensor\n",
    "        bracket_strings = t.tensor(bracket_strings, dtype=t.long)\n",
    "        bracket_labels = t.tensor(bracket_labels, dtype=t.long)\n",
    "        return bracket_strings, bracket_labels"
   ]
  },
  {
   "cell_type": "code",
   "execution_count": 307,
   "metadata": {},
   "outputs": [],
   "source": [
    "trainset = BracketDataset(size=4096, tokenizer=tokenizer)\n",
    "testset = BracketDataset(size=512, tokenizer=tokenizer)"
   ]
  },
  {
   "cell_type": "code",
   "execution_count": 305,
   "metadata": {},
   "outputs": [],
   "source": [
    "for x,y in trainset:\n",
    "    assert isValid(tokenizer.decode(x)) == y.item()"
   ]
  },
  {
   "cell_type": "code",
   "execution_count": 306,
   "metadata": {},
   "outputs": [],
   "source": [
    "trainloader = DataLoader(trainset, batch_size=64, shuffle=True)\n",
    "testloader = DataLoader(testset, batch_size=64, shuffle=True)"
   ]
  },
  {
   "cell_type": "code",
   "execution_count": 310,
   "metadata": {},
   "outputs": [
    {
     "name": "stdout",
     "output_type": "stream",
     "text": [
      "torch.Size([64, 512])\n"
     ]
    }
   ],
   "source": [
    "for (x, y) in trainloader:\n",
    "    print(x.shape)\n",
    "    break"
   ]
  }
 ],
 "metadata": {
  "kernelspec": {
   "display_name": "Python 3.9.6 ('venv': venv)",
   "language": "python",
   "name": "python3"
  },
  "language_info": {
   "codemirror_mode": {
    "name": "ipython",
    "version": 3
   },
   "file_extension": ".py",
   "mimetype": "text/x-python",
   "name": "python",
   "nbconvert_exporter": "python",
   "pygments_lexer": "ipython3",
   "version": "3.9.6"
  },
  "orig_nbformat": 4,
  "vscode": {
   "interpreter": {
    "hash": "a41fdc720b403cff5d22ec3440153970555b5fcc336583b0458a17a41b31d53f"
   }
  }
 },
 "nbformat": 4,
 "nbformat_minor": 2
}
